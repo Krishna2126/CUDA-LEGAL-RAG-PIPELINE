{
 "cells": [
  {
   "cell_type": "markdown",
   "metadata": {},
   "source": [
    "### Load and Read datasets"
   ]
  },
  {
   "cell_type": "code",
   "execution_count": 1,
   "metadata": {},
   "outputs": [],
   "source": [
    "# from read_files import *\n",
    "import os\n",
    "from tika import parser\n",
    "import time\n",
    "import os, psutil"
   ]
  },
  {
   "cell_type": "code",
   "execution_count": 2,
   "metadata": {},
   "outputs": [],
   "source": [
    "#Read file content from tika OCR \n",
    "def read_file(file_path):\n",
    "    try:\n",
    "        raw = parser.from_file(file_path)\n",
    "        return raw['content']\n",
    "    except Exception as e:\n",
    "        return f\"Error processing {file_path}: {str(e)}\"\n",
    " "
   ]
  },
  {
   "cell_type": "code",
   "execution_count": 3,
   "metadata": {},
   "outputs": [],
   "source": [
    "#read all file in folder with given extension\n",
    "def read_files_in_folder(folder_path,file_extension):\n",
    "    supported_extensions = file_extension\n",
    "    results = {}\n",
    "\n",
    "    for dirpath, dirnames, filenames in os.walk(folder_path):\n",
    "        for filename in filenames:\n",
    "            #print(filename)\n",
    "            if filename.lower().endswith(supported_extensions):\n",
    "                #print(filename)\n",
    "                file_path = os.path.join(dirpath, filename)\n",
    "                content = read_file(file_path)\n",
    "                results[filename] = content\n",
    "    return results"
   ]
  },
  {
   "cell_type": "code",
   "execution_count": 4,
   "metadata": {},
   "outputs": [],
   "source": [
    "\n",
    "def get_file_contents(folder_path,file_extension):\n",
    "    start = time.time()\n",
    "    path = folder_path\n",
    "    extension=file_extension\n",
    "    #extension=extensions\n",
    "    if not os.path.isdir(folder_path):\n",
    "        print(\"The specified path is not a valid directory.\")\n",
    "    else:\n",
    "        file_contents = read_files_in_folder(path,extension)\n",
    "    end = time.time()\n",
    "    print(psutil.Process(os.getpid()).memory_info().rss / 1024 ** 2)\n",
    "    # total time taken\n",
    "    print(\"Runtime of the program is\", {end - start})\n",
    "    return file_contents\n",
    "        "
   ]
  },
  {
   "cell_type": "code",
   "execution_count": 5,
   "metadata": {},
   "outputs": [],
   "source": [
    "#defining input file directory\n",
    "input_file_directory='data'\n",
    "\n",
    "#give list of extension of files\n",
    "extensions_of_file=('.pdf')"
   ]
  },
  {
   "cell_type": "code",
   "execution_count": null,
   "metadata": {},
   "outputs": [],
   "source": [
    "\n",
    "# getting contents of all files : Input format (input folder directory where files/folders are kept, extensions of the files to extract.)\n",
    "file_contents_pdf=get_file_contents(input_file_directory,extensions_of_file)\n"
   ]
  },
  {
   "cell_type": "code",
   "execution_count": null,
   "metadata": {},
   "outputs": [],
   "source": [
    "#printing number of pdf files read.\n",
    "print(f'total number of files read {len(file_contents_pdf.keys())}')"
   ]
  },
  {
   "cell_type": "markdown",
   "metadata": {},
   "source": [
    "### Pre processing data"
   ]
  },
  {
   "cell_type": "code",
   "execution_count": 8,
   "metadata": {},
   "outputs": [],
   "source": [
    "# import os\n",
    "# import glob\n",
    "# import re\n",
    "# from nltk.tokenize import sent_tokenize, word_tokenize\n",
    "# from nltk.corpus import stopwords\n",
    "# import nltk"
   ]
  },
  {
   "cell_type": "code",
   "execution_count": null,
   "metadata": {},
   "outputs": [],
   "source": []
  },
  {
   "cell_type": "code",
   "execution_count": 9,
   "metadata": {},
   "outputs": [],
   "source": [
    "# def clean_text(text):\n",
    "#     cleaned_text = re.sub(r'\\n+', ' ', text)\n",
    "#     cleaned_text = re.sub(r'\\s+', ' ', cleaned_text)\n",
    "#     cleaned_text = cleaned_text.strip()\n",
    "#     cleaned_text = cleaned_text.lower()  # Convert to lowercase\n",
    "#     cleaned_text = re.sub(r'[^\\w\\s-]', '', cleaned_text)  # Remove special characters except hyphens\n",
    "#     cleaned_text = re.sub(r'-', ' ', cleaned_text)  # Replace hyphens with space\n",
    "#     return cleaned_text"
   ]
  },
  {
   "cell_type": "code",
   "execution_count": 10,
   "metadata": {},
   "outputs": [],
   "source": [
    "# def tokenize_words(sentence):\n",
    "#     stop_words = set(stopwords.words('english'))\n",
    "#     words = word_tokenize(sentence)\n",
    "#     filtered_words = [word.lower() for word in words if word.isalnum() and word.lower() not in stop_words]\n",
    "#     return filtered_words"
   ]
  },
  {
   "cell_type": "code",
   "execution_count": 11,
   "metadata": {},
   "outputs": [],
   "source": [
    "# def tokenize_sentences(text):\n",
    "#     return sent_tokenize(text)"
   ]
  },
  {
   "cell_type": "code",
   "execution_count": 12,
   "metadata": {},
   "outputs": [],
   "source": [
    "# #cleaning content of pdf data\n",
    "# for key,values in file_contents_pdf.items():\n",
    "#     file_contents_pdf[key]=clean_text(values)"
   ]
  },
  {
   "cell_type": "code",
   "execution_count": 13,
   "metadata": {},
   "outputs": [],
   "source": [
    "# nltk.download('stopwords')\n",
    "# nltk.download('punkt_tab')"
   ]
  },
  {
   "cell_type": "code",
   "execution_count": 14,
   "metadata": {},
   "outputs": [],
   "source": [
    "# #tokenising the words in pdf data\n",
    "# for key,values in file_contents_pdf.items():\n",
    "#     file_contents_pdf[key]=tokenize_words(values)"
   ]
  },
  {
   "cell_type": "code",
   "execution_count": 15,
   "metadata": {},
   "outputs": [],
   "source": [
    "# file_contents_pdf['PcquoteComInc_19990721_S-1A_EX-10.11_6377149_EX-10.11_Co-Branding Agreement1.pdf']"
   ]
  },
  {
   "cell_type": "markdown",
   "metadata": {},
   "source": [
    "#### saving the output as pickel file"
   ]
  },
  {
   "cell_type": "code",
   "execution_count": 16,
   "metadata": {},
   "outputs": [],
   "source": [
    "import pickle"
   ]
  },
  {
   "cell_type": "code",
   "execution_count": null,
   "metadata": {},
   "outputs": [],
   "source": [
    "#Save the final processed text as a pickle file\n",
    "pickle_file_path = 'file_contents_pdf.pkl'\n",
    "with open(pickle_file_path, 'wb') as file:\n",
    "    pickle.dump(file_contents_pdf, file)\n",
    "\n",
    "print(f\"Processed text saved to {pickle_file_path}\")"
   ]
  }
 ],
 "metadata": {
  "kernelspec": {
   "display_name": "env",
   "language": "python",
   "name": "python3"
  },
  "language_info": {
   "codemirror_mode": {
    "name": "ipython",
    "version": 3
   },
   "file_extension": ".py",
   "mimetype": "text/x-python",
   "name": "python",
   "nbconvert_exporter": "python",
   "pygments_lexer": "ipython3",
   "version": "3.11.6"
  }
 },
 "nbformat": 4,
 "nbformat_minor": 2
}
