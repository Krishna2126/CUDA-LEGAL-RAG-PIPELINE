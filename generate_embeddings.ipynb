{
 "cells": [
  {
   "cell_type": "code",
   "execution_count": null,
   "id": "d02b0020",
   "metadata": {},
   "outputs": [],
   "source": [
    "# Import required packages\n",
    "import pandas as pd\n",
    "import os\n",
    "import torch\n",
    "import math\n",
    "from transformers import AutoTokenizer, AutoModel"
   ]
  },
  {
   "cell_type": "code",
   "execution_count": 2,
   "id": "a53395b4",
   "metadata": {},
   "outputs": [],
   "source": [
    "# Initialize a list to store rows for the DataFrame\n",
    "data = []"
   ]
  },
  {
   "cell_type": "code",
   "execution_count": null,
   "id": "bbae1475",
   "metadata": {},
   "outputs": [],
   "source": [
    "# Load the LegalBERT tokenizer and model\n",
    "model_name = \"nlpaueb/legal-bert-base-uncased\"\n",
    "tokenizer = AutoTokenizer.from_pretrained(model_name)\n",
    "model = AutoModel.from_pretrained(model_name)\n"
   ]
  },
  {
   "cell_type": "code",
   "execution_count": 4,
   "id": "d610658a",
   "metadata": {},
   "outputs": [],
   "source": [
    "# Generate embeddings\n",
    "def generate_embeddings(text):\n",
    "    # Tokenize the input text\n",
    "    \n",
    "     # Check if the input text is NaN or a float\n",
    "    if isinstance(text, float) and math.isnan(text):\n",
    "        print(\"Encountered NaN, returning empty tensor.\")\n",
    "        return torch.zeros(1, model.config.hidden_size)  # Returning a zero tensor with appropriate size\n",
    "\n",
    "    \n",
    "    text = text.replace('\\xa0', ' ')\n",
    "    inputs = tokenizer(text, return_tensors='pt', truncation=True, padding=True, max_length=512)\n",
    "\n",
    "    # Forward pass to get the output from LegalBERT\n",
    "    with torch.no_grad():\n",
    "        outputs = model(**inputs)\n",
    "\n",
    "    # Get the embeddings from the last hidden state\n",
    "    # Use the mean pooling of the last hidden states for the [CLS] token\n",
    "    embeddings = outputs.last_hidden_state.mean(dim=1)  # You can also use [CLS] token instead\n",
    "\n",
    "    return embeddings"
   ]
  },
  {
   "cell_type": "code",
   "execution_count": 5,
   "id": "39ef3a59",
   "metadata": {},
   "outputs": [],
   "source": [
    "# Path to the folder containing the CSV files\n",
    "folder_path = 'contract_topics'\n",
    "\n",
    "# Create the folder if it doesn't exist\n",
    "output_folder = 'topic_embeddings'\n",
    "os.makedirs(output_folder, exist_ok=True)"
   ]
  },
  {
   "cell_type": "code",
   "execution_count": 6,
   "id": "52f9afa6",
   "metadata": {},
   "outputs": [],
   "source": [
    "# a = os.path.join(folder_path, 'ACCELERATEDTECHNOLOGIESHOLDINGCORP_04_24_2003-EX-10.13-JOINT VENTURE AGREEMENT.PDF.csv')"
   ]
  },
  {
   "cell_type": "code",
   "execution_count": 7,
   "id": "ac09d5ef",
   "metadata": {},
   "outputs": [],
   "source": [
    "# df3 = pd.read_csv(a)\n",
    "# s = df3['Topic_text'][0]\n",
    "# s = s.replace('\\xa0', ' ')\n",
    "# s"
   ]
  },
  {
   "cell_type": "code",
   "execution_count": null,
   "id": "3151cae6",
   "metadata": {},
   "outputs": [],
   "source": [
    "# Loop through each file in the folder\n",
    "for filename in os.listdir(folder_path):\n",
    "    # Create the full path to the CSV file\n",
    "    file_path = os.path.join(folder_path, filename)\n",
    "\n",
    "    # Read the CSV file into a DataFrame\n",
    "    df = pd.read_csv(file_path)\n",
    "    data = []\n",
    "    contract_name = df['Contract_name'][0]\n",
    "    # Check if the CSV file already exists, if so, skip this contract\n",
    "    \n",
    "    output_file = os.path.join(output_folder, f'{contract_name}.csv')\n",
    "    if os.path.exists(output_file):\n",
    "        print(f\"Skipping {contract_name}, CSV already exists.\")\n",
    "        continue\n",
    "    for i in range(len(df['Topic_heading'])):\n",
    "        # print(i)\n",
    "        # print(df['Contract_name'][i])\n",
    "        # print(df['Topic_text'][i])\n",
    "        embedding = generate_embeddings(df['Topic_text'][i])\n",
    "        data.append({\n",
    "            'Contract_Name': df['Contract_name'][i],\n",
    "            'Chunk_title': df['Topic_heading'][i],\n",
    "            'Chunk_text': df['Topic_text'][i],\n",
    "            'Chunk_embeddings': embedding\n",
    "        })\n",
    "    df2 = pd.DataFrame(data)\n",
    "    # Save the DataFrame to a CSV file with the contract name\n",
    "    df2.to_csv(output_file, index=False)\n",
    "    print(f\"Saved topics for {contract_name} to {output_file}\")\n",
    "        "
   ]
  }
 ],
 "metadata": {
  "kernelspec": {
   "display_name": "env_test",
   "language": "python",
   "name": "python3"
  },
  "language_info": {
   "codemirror_mode": {
    "name": "ipython",
    "version": 3
   },
   "file_extension": ".py",
   "mimetype": "text/x-python",
   "name": "python",
   "nbconvert_exporter": "python",
   "pygments_lexer": "ipython3",
   "version": "3.11.6"
  }
 },
 "nbformat": 4,
 "nbformat_minor": 5
}
